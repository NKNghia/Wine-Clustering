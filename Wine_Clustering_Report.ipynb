{
 "cells": [
  {
   "cell_type": "markdown",
   "metadata": {},
   "source": [
    "- Họ và tên: Nguyễn Khánh Nghĩa\n",
    "- Lớp KTDL10\n",
    "- MSV 7103101336"
   ]
  },
  {
   "cell_type": "markdown",
   "metadata": {},
   "source": [
    "# WINE CLUSTERING (Phân Cụm Rượu)"
   ]
  },
  {
   "cell_type": "markdown",
   "metadata": {},
   "source": [
    "# 0. Khởi tạo dữ liệu"
   ]
  },
  {
   "cell_type": "code",
   "execution_count": 7,
   "metadata": {},
   "outputs": [],
   "source": [
    "import findspark\n",
    "findspark.init()"
   ]
  },
  {
   "cell_type": "code",
   "execution_count": 8,
   "metadata": {},
   "outputs": [
    {
     "data": {
      "text/html": [
       "\n",
       "            <div>\n",
       "                <p><b>SparkSession - in-memory</b></p>\n",
       "                \n",
       "        <div>\n",
       "            <p><b>SparkContext</b></p>\n",
       "\n",
       "            <p><a href=\"http://DESKTOP-ODLAULG:4040\">Spark UI</a></p>\n",
       "\n",
       "            <dl>\n",
       "              <dt>Version</dt>\n",
       "                <dd><code>v3.2.0</code></dd>\n",
       "              <dt>Master</dt>\n",
       "                <dd><code>local[*]</code></dd>\n",
       "              <dt>AppName</dt>\n",
       "                <dd><code>Spark report</code></dd>\n",
       "            </dl>\n",
       "        </div>\n",
       "        \n",
       "            </div>\n",
       "        "
      ],
      "text/plain": [
       "<pyspark.sql.session.SparkSession at 0x25c180defd0>"
      ]
     },
     "execution_count": 8,
     "metadata": {},
     "output_type": "execute_result"
    }
   ],
   "source": [
    "from pyspark.sql import SparkSession\n",
    "spark = SparkSession.builder.appName('Spark report').getOrCreate()\n",
    "spark"
   ]
  },
  {
   "cell_type": "markdown",
   "metadata": {},
   "source": [
    "# 1. Giới thiệu về dữ liệu\n",
    "Nguồn dữ liệu: https://archive.ics.uci.edu/ml/datasets/wine, https://www.kaggle.com/harrywang/wine-dataset-for-clustering/version/1\n",
    "Mô tả tập dữ liệu bằng các nguồn thông tin trang chủ cung cấp\n",
    "Data Set Information:\n",
    "\n",
    "Những dữ liệu này là kết quả phân tích hóa học của các loại rượu vang được trồng ở cùng một vùng ở Ý nhưng có nguồn gốc từ ba giống rượu khác nhau. Phân tích xác định số lượng của 13 thành phần được tìm thấy trong mỗi loại trong số ba loại rượu.\n",
    "\n",
    "The attributes are: \n",
    "1. Alcohol\n",
    "2. Malic acid\n",
    "3. Ash\n",
    "4. Alcalinity of ash\n",
    "5. Magnesium\n",
    "6. Total phenols\n",
    "7. Flavanoids\n",
    "8. Nonflavanoid phenols\n",
    "9. Proanthocyanins\n",
    "10.Color intensity\n",
    "11.Hue\n",
    "12.OD280/OD315 of diluted wines\n",
    "13.Proline\n",
    "\n",
    "In a classification context, this is a well posed problem with \"well behaved\" class structures. A good data set for first testing of a new classifier, but not very challenging.\n",
    "\n",
    "\n",
    "Attribute Information:\n",
    "\n",
    "All attributes are continuous\n",
    "\n",
    "No statistics available, but suggest to standardise variables for certain uses (e.g. for us with classifiers which are NOT scale invariant)\n",
    "\n",
    "NOTE: 1st attribute is class identifier (1-3)\n",
    "\n",
    "Bài toán đặt ra: <b> Phân cụm thành phần rượu <b>\n",
    "\n",
    "<img src=\"https://miro.medium.com/max/795/1*8BOjsbvSxzbq5zW1pcVLew.png\"/> \n",
    "<i>"
   ]
  },
  {
   "cell_type": "markdown",
   "metadata": {},
   "source": [
    "Thông tin về thành phần rượu: \n",
    "\n",
    "Malic Acid = một trong những axit chính được tìm thấy trong độ chua của nho. Nồng độ của nó càng giảm khi nho càng chín. Axit malic cung cấp một liên kết chặt chẽ với rượu vang có vị \"phẳng\" nếu không có đủ. Nếu có quá nhiều rượu sẽ có vị ‘chua’. Điều quan trọng là mức độ axit malic được theo dõi trong quá trình lên men.\n",
    "\n",
    "Ash = Xác định tro là một phân tích bắt buộc đối với các loại rượu được chứng nhận để đưa ra thị trường. Nó được định nghĩa là tất cả các chất vô cơ còn lại sau khi đốt cháy phần còn lại từ quá trình bay hơi của rượu phải hoặc rượu\n",
    "\n",
    "Ash_Alcanity = Độ kiềm của tro được định nghĩa là tổng các cation, trừ ion amoni, kết hợp với các axit hữu cơ trong rượu\n",
    "\n",
    "Magnesium = Các cation magiê có trong rượu vang do sự hấp thụ chất dinh dưỡng của đất trong vườn nho.\n",
    "\n",
    "Total_Phenols =Hàm lượng phenolic trong rượu dùng để chỉ các hợp chất phenolic — phenol tự nhiên và polyphenol — trong rượu, bao gồm một nhóm lớn gồm hàng trăm hợp chất hóa học ảnh hưởng đến hương vị, màu sắc và cảm giác ngon miệng của rượu.\n",
    "\n",
    "Flavonoids = Flavonoid là polyphenol chính có trong rượu vang đỏ tính theo trọng lượng, và chiếm khoảng 80 đến 90% tổng số polyphenol\n",
    "\n",
    "Nonflavanoid_Phenols bao gồm một số phân lớp quan trọng đối với rượu vang, đặc biệt là hydroxycinnamates, stilbene và axit benzoic. \n",
    "\n",
    "Proanthocyanins = là polyphenol chính trong rượu vang đỏ đang được nghiên cứu để đánh giá nguy cơ bệnh tim mạch vành và giảm tỷ lệ tử vong nói chung. Với tannin, chúng cũng ảnh hưởng đến hương thơm, hương vị, cảm giác miệng và làm se của rượu vang đỏ..\n",
    "\n",
    "Color_Intensity = Một phép đo đơn giản về độ tối của rượu bằng cách sử dụng tổng hợp các phép đo độ hấp thụ trong các vùng màu tím, xanh lục và đỏ của quang phổ khả kiến\n",
    "\n",
    "Proline = Proline thường là axit amin dồi dào nhất có trong nước ép nho và rượu vang."
   ]
  },
  {
   "cell_type": "markdown",
   "metadata": {},
   "source": [
    "# 2. Khám Phá dữ liệu (EDA)\n",
    "<b>Mục đích của EDA</b>\n",
    "Bước EDA này giúp chúng ta có cái nhìn đầu tiên về dữ liệu. Bạn cần có một cảm giác nhất định về những gì mình có trong tay trước khi có những chiến lược xây dựng mô hình. EDA giúp bạn mường tượng được độ phức tạp của bài toán và vạch ra những bước đầu tiên cần làm.\n",
    "\n",
    "Việc khám phá dữ liệu không chỉ dừng lại ở lần đầu tiên trước khi xây dựng đặc trưng mà còn cần được thực hiện trong suốt quá trình phát triển hệ thống. Sau khi xây dựng xong các đặc trưng, bạn cũng cần làm lại EDA một lần nữa để xem dữ liệu đã qua xử lý đó đã thực sự sạch chưa. Ngoài ra, sau khi xây dựng và phân tích mô hình, ta cũng thường xuyên cần quay lại EDA để tiếp tục khám phá những điều còn ẩn giấu trong dữ liệu bài toán. Càng hiểu sâu về dữ liệu, bạn sẽ càng sớm giải thích được những hành vi của mô hình và đưa ra những thay đổi phù hợp.\n",
    "\n",
    "Note\n",
    "\n",
    "Để phân biệt dữ liệu trước và sau bước tiền xử lý, các cột trong bảng dữ liệu ban đầu được gọi là trường thông tin, trường dữ liệu hoặc đôi khi ngắn gọn là trường. Các cột đã được xử lý và sẵn sàng cho việc huấn luyện mô hình được gọi là đặc trưng.\n",
    "\n",
    "Vậy, làm EDA là làm những gì?\n",
    "\n",
    "Kích thước dữ liệu\n",
    "Trước tiên, bạn cần hình dung được dữ liệu có khoảng bao nhiêu mẫu và có bao nhiêu trường dữ liệu. Nếu dữ liệu quá ít, khả năng cao là bạn không thể dùng Deep Learning để giải quyết mà cần dùng các phương pháp khác. Biết về kích thước dữ liệu cũng giúp bạn xác định kích thước tập huấn luyện (training data) và tập kiểm định (validation data) cũng như chuẩn bị bộ nhớ phù hợp.\n",
    "\n",
    "Ý nghĩa của từng trường dữ liệu\n",
    "Làm việc với dữ liệu dạng bảng, bạn cần chuẩn bị tâm lý là sẽ làm việc với dữ liệu nhiều hơn là với mô hình. Biết ý nghĩa của từng trường dữ liệu giúp bạn có những cách xử lý và tạo đặc trưng phù hợp. Ý nghĩa của mỗi trường dữ liệu thường được đi kèm theo bộ dữ liệu hoặc đôi khi bạn phải tự suy luận ra dựa trên các giá trị trong cột. Chẳng hạn, nếu các giá trị trong một cột là “Thái Bình”, “Nghệ An”, “Bến Tre”, … thì khả năng cao cột này là tên tỉnh thành.\n",
    "\n",
    "Tuy nhiên, có những trường hợp vì lý do bảo mật thông tin mà các giá trị trong mỗi trường đã được mã hóa thành những giá trị vô nghĩa. Với những trường hợp này, việc biết ý nghĩa của trường thông tin là cực kỳ quan trọng. Nó ảnh hưởng trực tiếp tới cách xử lý đặc trưng và chất lượng của mô hình. Nếu bạn không biết ý nghĩa và đặc biệt là dữ liệu được mã hóa dưới dạng số, chúc may mắn vì khả năng cao sẽ đến lúc mô hình có chất lượng không như ý muốn mà bạn không giải thích được.\n",
    "\n",
    "Kiểu dữ liệu của mỗi trường\n",
    "Các mô hình Machine Learning cho dữ liệu dạng bảng khá nhạy cảm với kiểu dữ liệu. Nhìn chung, các mô hình Machine Learning đều nhận dữ liệu đã qua xử lý ở dạng số. Một trong những yêu cầu của một mô hình tốt là tính ổn định với những thay đổi nhỏ ở đầu vào. Điều này tức là nếu đầu vào mô hình là những giá trị gần nhau thì đầu ra cũng được kỳ vọng là có giá trị gần nhau. Nếu một dữ liệu dạng hạng mục được mã hóa về số, chẳng hạn mã số người dùng, mà bạn nghĩ nó là dạng số thì mô hình sẽ học được rằng những người dùng có mã số gần nhau sẽ có những đặc trưng gần giống nhau. Điều này khả năng rất cao không đúng, nhất là khi mã số được đánh một cách ngẫu nhiên.\n",
    "\n",
    "Phân phối xác suất của từng trường\n",
    "Ta cần nắm được phân phối xác suất của từng trường dữ liệu để lên kế hoạch làm sạch dữ liệu và tạo các đặc trưng liên quan tới dữ liệu đó. Với mỗi cột dữ liệu, những trường hợp sau đây ta cần lưu tâm:\n",
    "\n",
    "Mọi giá trị trong cột bằng nhau: Ví dụ, trong dữ liệu có một cột là “Năm” và mọi giá trị đều bằng 2020. Như vậy cột này không mang lại ý nghĩa dự đoán. Ta có thể xóa cột này khi làm sạch dữ liệu.\n",
    "\n",
    "Có quá nhiều giá trị bị khuyết: Nếu thấy ý nghĩa cột này không quan trọng, ta có thể xóa. Nếu nó quan trọng, bạn cần có những chiến lược phù hợp (Xem Xử lý dữ liệu bị khuyết).\n",
    "\n",
    "Xuất hiện giá trị không hợp lệ: Nếu trường dữ liệu “Tuổi” mang những giá trị là số âm hoặc lớn hơn 200, khả năng cao chúng là những giá trị không hợp lệ. Với những giá trị không hợp lệ, ta có thể gán lại nó về giá trị hợp lệ gần nhất hoặc coi như dữ liệu bị khuyết.\n",
    "\n",
    "Xuất hiện giá trị ngoại lệ: Giả sử trường thông tin thu nhập hàng tháng chứa hầu hết giá trị trong khoảng từ 1-100 triệu đồng nhưng có một vài trường hợp ngoại lệ kiếm được tới 10 tỉ. Nếu giữ nguyên giá trị 10 tỉ đó, mô hình dường như được huấn luyện gượng ép, nó phải căng sức dự đoán những giá trị ngoại lệ đó khiến chất lượng đối với những giá trị phổ biến bị ảnh hưởng. Ngoài ra, nếu phải làm bước chuẩn hóa dữ liệu về đoạn [0,1] (một kỹ thuật rất phố biến khi xử lý dữ liệu) thì hầu hết các giá trị nằm trong khoảng [0,0.01]. Những giá trị rất nhỏ và gần nhau này có thể dẫn đến việc mô hình không phân biệt được sự khác nhau giữa các mức thu nhập khác nhau. Đó là ví dụ với dữ liệu dạng số. Với dữ liệu dạng hạng mục có nhiều hạng mục khác nhau, nếu một số hạng mục chiếm tới 99% tổng số mẫu trong khi tổng số mẫu của nhiều hạng mục khác lại chỉ có 1%. Ta cần có những cách xử lý đặc biệt với dữ liệu loại này.\n",
    "\n",
    "Mối tương quan giữa các trường dữ liệu¶\n",
    "Khi làm EDA, ta cũng cần tính toán độ tương quan giữa các trường dữ liệu, đặc biệt là giữa nhãn dự đoán và các trường còn lại. Nếu hệ số tương quan giữa một cột và cột nhãn bằng không, khả năng cao cột đó không mang lại nhiều giá trị dự đoán. Bạn có thể giành sự ưu tiên cho những cột có độ tương quan lớn hơn. Ngược lại, nếu hệ số tương quan giữa một cột và cột nhãn quá cao, có hai khả năng xảy ra:\n",
    "\n",
    "Cột đó có khả năng mang lại kết quả dự đoán tốt. Khi đó ta cần tập trung làm sạch và xây dựng các đặc trưng liên quan đến cột này trước.\n",
    "\n",
    "Dữ liệu có thể bị rò rỉ (data leakage). Giả sử bạn cần dự đoán tuổi của người dùng và nhận ra một cột có hệ số tương quan bằng 1. Nếu đó là cột “Năm sinh” thì rõ ràng bạn chẳng cần làm mô hình Machine Learning mà chỉ cần một phép trừ. Tuy nhiên, bài toán có thể là dự đoán tuổi khi trường “Năm sinh” bị khuyết nhưng biết nhiều thông tin khác. Rõ ràng ta không thể dùng trường “Năm sinh” trong trường hợp này mà cần loại bỏ nó đi.\n",
    "\n",
    "Ngoài ra, nếu hai cột không phải cột nhãn mà có độ tương quan cao, ta cũng nên kiểm tra ý nghĩa của chúng xem có thể bỏ qua một cột hay không.\n",
    "\n",
    "Trả lời được những câu hỏi này sẽ giúp ích rất nhiều cho việc làm sạch dữ liệu và xây dựng đặc trưng sau này.\n",
    "\n",
    "Tùy vào lượng thời gian bạn có và kiến thức của bạn về dữ liệu, bạn có thể phân tích sâu hơn về dữ liệu. Càng hiểu dữ liệu để xây dựng những đặc trưng phù hợp, mô hình của bạn càng có chất lượng tốt hơn.\n",
    "\n",
    "Tip\n",
    "\n",
    "Bạn không nên cố gắng dành thật nhiều thời gian vào EDA khi bắt đầu dự án mà chỉ nên dừng lại ở những đánh giá cơ bản trên đây để tìm ra những trường dữ liệu có khả năng cao mang lại kết quả tốt và xây dựng đặc trưng dựa trên những trường đó.\n",
    "\n",
    "Bạn sẽ còn phải quay lại EDA nhiều lần nữa sau khi xây dựng được mô hình đầu tiên. Chúng ta cần nhanh chóng xây dựng một pipeline hoàn thiện cho bài toán bao gồm xử lý dữ liệu, huấn luyện mô hình và đánh giá chất lượng mô hình. Bạn không cần quá chú trọng vào việc xây dựng một mô hình tốt ngay từ đầu mà nên quan tâm hơn tới một hệ thống hoàn chỉnh để đánh giá chất lượng mô hình và tìm ra những điểm cần cải thiện. Dựa trên những đánh giá đó, bạn có thể đưa ra những suy luận và kiểm chứng chúng bằng dữ liệu. Từ đó đưa ra những điều chỉnh phù hợp.\n",
    "\n",
    "EDA là công việc tương đối nhàm chán nếu bạn chỉ thích huấn luyện mô hình. Rất may, hiện có rất nhiều thư viện hỗ trợ những chức năng cơ bản được đề cập trên đây. Pandas profiling là một ví dụ."
   ]
  },
  {
   "cell_type": "code",
   "execution_count": 9,
   "metadata": {},
   "outputs": [
    {
     "name": "stdout",
     "output_type": "stream",
     "text": [
      "root\n",
      " |-- Alcohol: string (nullable = true)\n",
      " |-- Malic_Acid: string (nullable = true)\n",
      " |-- Ash: string (nullable = true)\n",
      " |-- Ash_Alcanity: string (nullable = true)\n",
      " |-- Magnesium: string (nullable = true)\n",
      " |-- Total_Phenols: string (nullable = true)\n",
      " |-- Flavanoids: string (nullable = true)\n",
      " |-- Nonflavanoid_Phenols: string (nullable = true)\n",
      " |-- Proanthocyanins: string (nullable = true)\n",
      " |-- Color_Intensity: string (nullable = true)\n",
      " |-- Hue: string (nullable = true)\n",
      " |-- OD280: string (nullable = true)\n",
      " |-- Proline: string (nullable = true)\n",
      "\n"
     ]
    }
   ],
   "source": [
    "df = spark.read.csv('wine-clustering (2).csv', header = True)\n",
    "df.printSchema()"
   ]
  },
  {
   "cell_type": "code",
   "execution_count": 10,
   "metadata": {},
   "outputs": [
    {
     "name": "stdout",
     "output_type": "stream",
     "text": [
      "root\n",
      " |-- alcohol: float (nullable = true)\n",
      " |-- Malic_Acid: float (nullable = true)\n",
      " |-- Ash: float (nullable = true)\n",
      " |-- Ash_Alcanity: float (nullable = true)\n",
      " |-- Magnesium: float (nullable = true)\n",
      " |-- Total_Phenols: float (nullable = true)\n",
      " |-- Flavanoids: float (nullable = true)\n",
      " |-- Nonflavanoid_Phenols: float (nullable = true)\n",
      " |-- Proanthocyanins: float (nullable = true)\n",
      " |-- Color_Intensity: float (nullable = true)\n",
      " |-- Hue: float (nullable = true)\n",
      " |-- OD280: float (nullable = true)\n",
      " |-- Proline: float (nullable = true)\n",
      "\n"
     ]
    }
   ],
   "source": [
    "#Thay đổi kiểu dữ liệu\n",
    "df.createOrReplaceTempView(\"CastData\")\n",
    "df = spark.sql(\"SELECT FLOAT(alcohol),FLOAT(Malic_Acid),FLOAT(Ash), FLOAT(Ash_Alcanity), FLOAT(Magnesium), FLOAT(Total_Phenols), FLOAT(Flavanoids), FLOAT(Nonflavanoid_Phenols), FLOAT(Proanthocyanins), FLOAT(Color_Intensity), FLOAT(Hue), FLOAT(OD280), FLOAT(Proline) from CastData\")\n",
    "df.printSchema()"
   ]
  },
  {
   "cell_type": "code",
   "execution_count": 11,
   "metadata": {},
   "outputs": [
    {
     "name": "stdout",
     "output_type": "stream",
     "text": [
      "Kích thước tập dữ liệu 178 dòng, 13 cột\n"
     ]
    }
   ],
   "source": [
    "print('Kích thước tập dữ liệu {} dòng, {} cột'.format(df.count(), len(df.columns)))"
   ]
  },
  {
   "cell_type": "markdown",
   "metadata": {},
   "source": [
    "### Mô tả tập dữ liệu"
   ]
  },
  {
   "cell_type": "code",
   "execution_count": 12,
   "metadata": {},
   "outputs": [
    {
     "data": {
      "text/html": [
       "<div>\n",
       "<style scoped>\n",
       "    .dataframe tbody tr th:only-of-type {\n",
       "        vertical-align: middle;\n",
       "    }\n",
       "\n",
       "    .dataframe tbody tr th {\n",
       "        vertical-align: top;\n",
       "    }\n",
       "\n",
       "    .dataframe thead th {\n",
       "        text-align: right;\n",
       "    }\n",
       "</style>\n",
       "<table border=\"1\" class=\"dataframe\">\n",
       "  <thead>\n",
       "    <tr style=\"text-align: right;\">\n",
       "      <th></th>\n",
       "      <th>alcohol</th>\n",
       "      <th>Malic_Acid</th>\n",
       "      <th>Ash</th>\n",
       "      <th>Ash_Alcanity</th>\n",
       "      <th>Magnesium</th>\n",
       "      <th>Total_Phenols</th>\n",
       "      <th>Flavanoids</th>\n",
       "      <th>Nonflavanoid_Phenols</th>\n",
       "      <th>Proanthocyanins</th>\n",
       "      <th>Color_Intensity</th>\n",
       "      <th>Hue</th>\n",
       "      <th>OD280</th>\n",
       "      <th>Proline</th>\n",
       "    </tr>\n",
       "  </thead>\n",
       "  <tbody>\n",
       "    <tr>\n",
       "      <th>0</th>\n",
       "      <td>14.23</td>\n",
       "      <td>1.71</td>\n",
       "      <td>2.43</td>\n",
       "      <td>15.600000</td>\n",
       "      <td>127.0</td>\n",
       "      <td>2.80</td>\n",
       "      <td>3.06</td>\n",
       "      <td>0.28</td>\n",
       "      <td>2.29</td>\n",
       "      <td>5.64</td>\n",
       "      <td>1.04</td>\n",
       "      <td>3.92</td>\n",
       "      <td>1065.0</td>\n",
       "    </tr>\n",
       "    <tr>\n",
       "      <th>1</th>\n",
       "      <td>13.20</td>\n",
       "      <td>1.78</td>\n",
       "      <td>2.14</td>\n",
       "      <td>11.200000</td>\n",
       "      <td>100.0</td>\n",
       "      <td>2.65</td>\n",
       "      <td>2.76</td>\n",
       "      <td>0.26</td>\n",
       "      <td>1.28</td>\n",
       "      <td>4.38</td>\n",
       "      <td>1.05</td>\n",
       "      <td>3.40</td>\n",
       "      <td>1050.0</td>\n",
       "    </tr>\n",
       "    <tr>\n",
       "      <th>2</th>\n",
       "      <td>13.16</td>\n",
       "      <td>2.36</td>\n",
       "      <td>2.67</td>\n",
       "      <td>18.600000</td>\n",
       "      <td>101.0</td>\n",
       "      <td>2.80</td>\n",
       "      <td>3.24</td>\n",
       "      <td>0.30</td>\n",
       "      <td>2.81</td>\n",
       "      <td>5.68</td>\n",
       "      <td>1.03</td>\n",
       "      <td>3.17</td>\n",
       "      <td>1185.0</td>\n",
       "    </tr>\n",
       "    <tr>\n",
       "      <th>3</th>\n",
       "      <td>14.37</td>\n",
       "      <td>1.95</td>\n",
       "      <td>2.50</td>\n",
       "      <td>16.799999</td>\n",
       "      <td>113.0</td>\n",
       "      <td>3.85</td>\n",
       "      <td>3.49</td>\n",
       "      <td>0.24</td>\n",
       "      <td>2.18</td>\n",
       "      <td>7.80</td>\n",
       "      <td>0.86</td>\n",
       "      <td>3.45</td>\n",
       "      <td>1480.0</td>\n",
       "    </tr>\n",
       "    <tr>\n",
       "      <th>4</th>\n",
       "      <td>13.24</td>\n",
       "      <td>2.59</td>\n",
       "      <td>2.87</td>\n",
       "      <td>21.000000</td>\n",
       "      <td>118.0</td>\n",
       "      <td>2.80</td>\n",
       "      <td>2.69</td>\n",
       "      <td>0.39</td>\n",
       "      <td>1.82</td>\n",
       "      <td>4.32</td>\n",
       "      <td>1.04</td>\n",
       "      <td>2.93</td>\n",
       "      <td>735.0</td>\n",
       "    </tr>\n",
       "    <tr>\n",
       "      <th>5</th>\n",
       "      <td>14.20</td>\n",
       "      <td>1.76</td>\n",
       "      <td>2.45</td>\n",
       "      <td>15.200000</td>\n",
       "      <td>112.0</td>\n",
       "      <td>3.27</td>\n",
       "      <td>3.39</td>\n",
       "      <td>0.34</td>\n",
       "      <td>1.97</td>\n",
       "      <td>6.75</td>\n",
       "      <td>1.05</td>\n",
       "      <td>2.85</td>\n",
       "      <td>1450.0</td>\n",
       "    </tr>\n",
       "    <tr>\n",
       "      <th>6</th>\n",
       "      <td>14.39</td>\n",
       "      <td>1.87</td>\n",
       "      <td>2.45</td>\n",
       "      <td>14.600000</td>\n",
       "      <td>96.0</td>\n",
       "      <td>2.50</td>\n",
       "      <td>2.52</td>\n",
       "      <td>0.30</td>\n",
       "      <td>1.98</td>\n",
       "      <td>5.25</td>\n",
       "      <td>1.02</td>\n",
       "      <td>3.58</td>\n",
       "      <td>1290.0</td>\n",
       "    </tr>\n",
       "    <tr>\n",
       "      <th>7</th>\n",
       "      <td>14.06</td>\n",
       "      <td>2.15</td>\n",
       "      <td>2.61</td>\n",
       "      <td>17.600000</td>\n",
       "      <td>121.0</td>\n",
       "      <td>2.60</td>\n",
       "      <td>2.51</td>\n",
       "      <td>0.31</td>\n",
       "      <td>1.25</td>\n",
       "      <td>5.05</td>\n",
       "      <td>1.06</td>\n",
       "      <td>3.58</td>\n",
       "      <td>1295.0</td>\n",
       "    </tr>\n",
       "    <tr>\n",
       "      <th>8</th>\n",
       "      <td>14.83</td>\n",
       "      <td>1.64</td>\n",
       "      <td>2.17</td>\n",
       "      <td>14.000000</td>\n",
       "      <td>97.0</td>\n",
       "      <td>2.80</td>\n",
       "      <td>2.98</td>\n",
       "      <td>0.29</td>\n",
       "      <td>1.98</td>\n",
       "      <td>5.20</td>\n",
       "      <td>1.08</td>\n",
       "      <td>2.85</td>\n",
       "      <td>1045.0</td>\n",
       "    </tr>\n",
       "    <tr>\n",
       "      <th>9</th>\n",
       "      <td>13.86</td>\n",
       "      <td>1.35</td>\n",
       "      <td>2.27</td>\n",
       "      <td>16.000000</td>\n",
       "      <td>98.0</td>\n",
       "      <td>2.98</td>\n",
       "      <td>3.15</td>\n",
       "      <td>0.22</td>\n",
       "      <td>1.85</td>\n",
       "      <td>7.22</td>\n",
       "      <td>1.01</td>\n",
       "      <td>3.55</td>\n",
       "      <td>1045.0</td>\n",
       "    </tr>\n",
       "  </tbody>\n",
       "</table>\n",
       "</div>"
      ],
      "text/plain": [
       "   alcohol  Malic_Acid   Ash  Ash_Alcanity  Magnesium  Total_Phenols  \\\n",
       "0    14.23        1.71  2.43     15.600000      127.0           2.80   \n",
       "1    13.20        1.78  2.14     11.200000      100.0           2.65   \n",
       "2    13.16        2.36  2.67     18.600000      101.0           2.80   \n",
       "3    14.37        1.95  2.50     16.799999      113.0           3.85   \n",
       "4    13.24        2.59  2.87     21.000000      118.0           2.80   \n",
       "5    14.20        1.76  2.45     15.200000      112.0           3.27   \n",
       "6    14.39        1.87  2.45     14.600000       96.0           2.50   \n",
       "7    14.06        2.15  2.61     17.600000      121.0           2.60   \n",
       "8    14.83        1.64  2.17     14.000000       97.0           2.80   \n",
       "9    13.86        1.35  2.27     16.000000       98.0           2.98   \n",
       "\n",
       "   Flavanoids  Nonflavanoid_Phenols  Proanthocyanins  Color_Intensity   Hue  \\\n",
       "0        3.06                  0.28             2.29             5.64  1.04   \n",
       "1        2.76                  0.26             1.28             4.38  1.05   \n",
       "2        3.24                  0.30             2.81             5.68  1.03   \n",
       "3        3.49                  0.24             2.18             7.80  0.86   \n",
       "4        2.69                  0.39             1.82             4.32  1.04   \n",
       "5        3.39                  0.34             1.97             6.75  1.05   \n",
       "6        2.52                  0.30             1.98             5.25  1.02   \n",
       "7        2.51                  0.31             1.25             5.05  1.06   \n",
       "8        2.98                  0.29             1.98             5.20  1.08   \n",
       "9        3.15                  0.22             1.85             7.22  1.01   \n",
       "\n",
       "   OD280  Proline  \n",
       "0   3.92   1065.0  \n",
       "1   3.40   1050.0  \n",
       "2   3.17   1185.0  \n",
       "3   3.45   1480.0  \n",
       "4   2.93    735.0  \n",
       "5   2.85   1450.0  \n",
       "6   3.58   1290.0  \n",
       "7   3.58   1295.0  \n",
       "8   2.85   1045.0  \n",
       "9   3.55   1045.0  "
      ]
     },
     "execution_count": 12,
     "metadata": {},
     "output_type": "execute_result"
    }
   ],
   "source": [
    "df.limit(10).toPandas()"
   ]
  },
  {
   "cell_type": "code",
   "execution_count": 13,
   "metadata": {},
   "outputs": [
    {
     "data": {
      "text/html": [
       "<div>\n",
       "<style scoped>\n",
       "    .dataframe tbody tr th:only-of-type {\n",
       "        vertical-align: middle;\n",
       "    }\n",
       "\n",
       "    .dataframe tbody tr th {\n",
       "        vertical-align: top;\n",
       "    }\n",
       "\n",
       "    .dataframe thead th {\n",
       "        text-align: right;\n",
       "    }\n",
       "</style>\n",
       "<table border=\"1\" class=\"dataframe\">\n",
       "  <thead>\n",
       "    <tr style=\"text-align: right;\">\n",
       "      <th></th>\n",
       "      <th>0</th>\n",
       "      <th>1</th>\n",
       "      <th>2</th>\n",
       "      <th>3</th>\n",
       "      <th>4</th>\n",
       "      <th>5</th>\n",
       "      <th>6</th>\n",
       "      <th>7</th>\n",
       "      <th>8</th>\n",
       "      <th>9</th>\n",
       "    </tr>\n",
       "  </thead>\n",
       "  <tbody>\n",
       "    <tr>\n",
       "      <th>alcohol</th>\n",
       "      <td>14.23</td>\n",
       "      <td>13.20</td>\n",
       "      <td>13.16</td>\n",
       "      <td>14.370000</td>\n",
       "      <td>13.24</td>\n",
       "      <td>14.20</td>\n",
       "      <td>14.39</td>\n",
       "      <td>14.06</td>\n",
       "      <td>14.83</td>\n",
       "      <td>13.86</td>\n",
       "    </tr>\n",
       "    <tr>\n",
       "      <th>Malic_Acid</th>\n",
       "      <td>1.71</td>\n",
       "      <td>1.78</td>\n",
       "      <td>2.36</td>\n",
       "      <td>1.950000</td>\n",
       "      <td>2.59</td>\n",
       "      <td>1.76</td>\n",
       "      <td>1.87</td>\n",
       "      <td>2.15</td>\n",
       "      <td>1.64</td>\n",
       "      <td>1.35</td>\n",
       "    </tr>\n",
       "    <tr>\n",
       "      <th>Ash</th>\n",
       "      <td>2.43</td>\n",
       "      <td>2.14</td>\n",
       "      <td>2.67</td>\n",
       "      <td>2.500000</td>\n",
       "      <td>2.87</td>\n",
       "      <td>2.45</td>\n",
       "      <td>2.45</td>\n",
       "      <td>2.61</td>\n",
       "      <td>2.17</td>\n",
       "      <td>2.27</td>\n",
       "    </tr>\n",
       "    <tr>\n",
       "      <th>Ash_Alcanity</th>\n",
       "      <td>15.60</td>\n",
       "      <td>11.20</td>\n",
       "      <td>18.60</td>\n",
       "      <td>16.799999</td>\n",
       "      <td>21.00</td>\n",
       "      <td>15.20</td>\n",
       "      <td>14.60</td>\n",
       "      <td>17.60</td>\n",
       "      <td>14.00</td>\n",
       "      <td>16.00</td>\n",
       "    </tr>\n",
       "    <tr>\n",
       "      <th>Magnesium</th>\n",
       "      <td>127.00</td>\n",
       "      <td>100.00</td>\n",
       "      <td>101.00</td>\n",
       "      <td>113.000000</td>\n",
       "      <td>118.00</td>\n",
       "      <td>112.00</td>\n",
       "      <td>96.00</td>\n",
       "      <td>121.00</td>\n",
       "      <td>97.00</td>\n",
       "      <td>98.00</td>\n",
       "    </tr>\n",
       "    <tr>\n",
       "      <th>Total_Phenols</th>\n",
       "      <td>2.80</td>\n",
       "      <td>2.65</td>\n",
       "      <td>2.80</td>\n",
       "      <td>3.850000</td>\n",
       "      <td>2.80</td>\n",
       "      <td>3.27</td>\n",
       "      <td>2.50</td>\n",
       "      <td>2.60</td>\n",
       "      <td>2.80</td>\n",
       "      <td>2.98</td>\n",
       "    </tr>\n",
       "    <tr>\n",
       "      <th>Flavanoids</th>\n",
       "      <td>3.06</td>\n",
       "      <td>2.76</td>\n",
       "      <td>3.24</td>\n",
       "      <td>3.490000</td>\n",
       "      <td>2.69</td>\n",
       "      <td>3.39</td>\n",
       "      <td>2.52</td>\n",
       "      <td>2.51</td>\n",
       "      <td>2.98</td>\n",
       "      <td>3.15</td>\n",
       "    </tr>\n",
       "    <tr>\n",
       "      <th>Nonflavanoid_Phenols</th>\n",
       "      <td>0.28</td>\n",
       "      <td>0.26</td>\n",
       "      <td>0.30</td>\n",
       "      <td>0.240000</td>\n",
       "      <td>0.39</td>\n",
       "      <td>0.34</td>\n",
       "      <td>0.30</td>\n",
       "      <td>0.31</td>\n",
       "      <td>0.29</td>\n",
       "      <td>0.22</td>\n",
       "    </tr>\n",
       "    <tr>\n",
       "      <th>Proanthocyanins</th>\n",
       "      <td>2.29</td>\n",
       "      <td>1.28</td>\n",
       "      <td>2.81</td>\n",
       "      <td>2.180000</td>\n",
       "      <td>1.82</td>\n",
       "      <td>1.97</td>\n",
       "      <td>1.98</td>\n",
       "      <td>1.25</td>\n",
       "      <td>1.98</td>\n",
       "      <td>1.85</td>\n",
       "    </tr>\n",
       "    <tr>\n",
       "      <th>Color_Intensity</th>\n",
       "      <td>5.64</td>\n",
       "      <td>4.38</td>\n",
       "      <td>5.68</td>\n",
       "      <td>7.800000</td>\n",
       "      <td>4.32</td>\n",
       "      <td>6.75</td>\n",
       "      <td>5.25</td>\n",
       "      <td>5.05</td>\n",
       "      <td>5.20</td>\n",
       "      <td>7.22</td>\n",
       "    </tr>\n",
       "    <tr>\n",
       "      <th>Hue</th>\n",
       "      <td>1.04</td>\n",
       "      <td>1.05</td>\n",
       "      <td>1.03</td>\n",
       "      <td>0.860000</td>\n",
       "      <td>1.04</td>\n",
       "      <td>1.05</td>\n",
       "      <td>1.02</td>\n",
       "      <td>1.06</td>\n",
       "      <td>1.08</td>\n",
       "      <td>1.01</td>\n",
       "    </tr>\n",
       "    <tr>\n",
       "      <th>OD280</th>\n",
       "      <td>3.92</td>\n",
       "      <td>3.40</td>\n",
       "      <td>3.17</td>\n",
       "      <td>3.450000</td>\n",
       "      <td>2.93</td>\n",
       "      <td>2.85</td>\n",
       "      <td>3.58</td>\n",
       "      <td>3.58</td>\n",
       "      <td>2.85</td>\n",
       "      <td>3.55</td>\n",
       "    </tr>\n",
       "    <tr>\n",
       "      <th>Proline</th>\n",
       "      <td>1065.00</td>\n",
       "      <td>1050.00</td>\n",
       "      <td>1185.00</td>\n",
       "      <td>1480.000000</td>\n",
       "      <td>735.00</td>\n",
       "      <td>1450.00</td>\n",
       "      <td>1290.00</td>\n",
       "      <td>1295.00</td>\n",
       "      <td>1045.00</td>\n",
       "      <td>1045.00</td>\n",
       "    </tr>\n",
       "  </tbody>\n",
       "</table>\n",
       "</div>"
      ],
      "text/plain": [
       "                            0        1        2            3       4        5  \\\n",
       "alcohol                 14.23    13.20    13.16    14.370000   13.24    14.20   \n",
       "Malic_Acid               1.71     1.78     2.36     1.950000    2.59     1.76   \n",
       "Ash                      2.43     2.14     2.67     2.500000    2.87     2.45   \n",
       "Ash_Alcanity            15.60    11.20    18.60    16.799999   21.00    15.20   \n",
       "Magnesium              127.00   100.00   101.00   113.000000  118.00   112.00   \n",
       "Total_Phenols            2.80     2.65     2.80     3.850000    2.80     3.27   \n",
       "Flavanoids               3.06     2.76     3.24     3.490000    2.69     3.39   \n",
       "Nonflavanoid_Phenols     0.28     0.26     0.30     0.240000    0.39     0.34   \n",
       "Proanthocyanins          2.29     1.28     2.81     2.180000    1.82     1.97   \n",
       "Color_Intensity          5.64     4.38     5.68     7.800000    4.32     6.75   \n",
       "Hue                      1.04     1.05     1.03     0.860000    1.04     1.05   \n",
       "OD280                    3.92     3.40     3.17     3.450000    2.93     2.85   \n",
       "Proline               1065.00  1050.00  1185.00  1480.000000  735.00  1450.00   \n",
       "\n",
       "                            6        7        8        9  \n",
       "alcohol                 14.39    14.06    14.83    13.86  \n",
       "Malic_Acid               1.87     2.15     1.64     1.35  \n",
       "Ash                      2.45     2.61     2.17     2.27  \n",
       "Ash_Alcanity            14.60    17.60    14.00    16.00  \n",
       "Magnesium               96.00   121.00    97.00    98.00  \n",
       "Total_Phenols            2.50     2.60     2.80     2.98  \n",
       "Flavanoids               2.52     2.51     2.98     3.15  \n",
       "Nonflavanoid_Phenols     0.30     0.31     0.29     0.22  \n",
       "Proanthocyanins          1.98     1.25     1.98     1.85  \n",
       "Color_Intensity          5.25     5.05     5.20     7.22  \n",
       "Hue                      1.02     1.06     1.08     1.01  \n",
       "OD280                    3.58     3.58     2.85     3.55  \n",
       "Proline               1290.00  1295.00  1045.00  1045.00  "
      ]
     },
     "execution_count": 13,
     "metadata": {},
     "output_type": "execute_result"
    }
   ],
   "source": [
    "df.limit(10).toPandas().transpose()"
   ]
  },
  {
   "cell_type": "code",
   "execution_count": 14,
   "metadata": {},
   "outputs": [
    {
     "data": {
      "text/html": [
       "<div>\n",
       "<style scoped>\n",
       "    .dataframe tbody tr th:only-of-type {\n",
       "        vertical-align: middle;\n",
       "    }\n",
       "\n",
       "    .dataframe tbody tr th {\n",
       "        vertical-align: top;\n",
       "    }\n",
       "\n",
       "    .dataframe thead th {\n",
       "        text-align: right;\n",
       "    }\n",
       "</style>\n",
       "<table border=\"1\" class=\"dataframe\">\n",
       "  <thead>\n",
       "    <tr style=\"text-align: right;\">\n",
       "      <th></th>\n",
       "      <th>0</th>\n",
       "      <th>1</th>\n",
       "      <th>2</th>\n",
       "      <th>3</th>\n",
       "      <th>4</th>\n",
       "    </tr>\n",
       "  </thead>\n",
       "  <tbody>\n",
       "    <tr>\n",
       "      <th>summary</th>\n",
       "      <td>count</td>\n",
       "      <td>mean</td>\n",
       "      <td>stddev</td>\n",
       "      <td>min</td>\n",
       "      <td>max</td>\n",
       "    </tr>\n",
       "    <tr>\n",
       "      <th>alcohol</th>\n",
       "      <td>178</td>\n",
       "      <td>13.00061797559931</td>\n",
       "      <td>0.8118265466246918</td>\n",
       "      <td>11.03</td>\n",
       "      <td>14.83</td>\n",
       "    </tr>\n",
       "    <tr>\n",
       "      <th>Malic_Acid</th>\n",
       "      <td>178</td>\n",
       "      <td>2.336348312289527</td>\n",
       "      <td>1.1171461004519325</td>\n",
       "      <td>0.74</td>\n",
       "      <td>5.8</td>\n",
       "    </tr>\n",
       "    <tr>\n",
       "      <th>Ash</th>\n",
       "      <td>178</td>\n",
       "      <td>2.3665168533164462</td>\n",
       "      <td>0.2743440072687038</td>\n",
       "      <td>1.36</td>\n",
       "      <td>3.23</td>\n",
       "    </tr>\n",
       "    <tr>\n",
       "      <th>Ash_Alcanity</th>\n",
       "      <td>178</td>\n",
       "      <td>19.494943806294646</td>\n",
       "      <td>3.339563774928806</td>\n",
       "      <td>10.6</td>\n",
       "      <td>30.0</td>\n",
       "    </tr>\n",
       "    <tr>\n",
       "      <th>Magnesium</th>\n",
       "      <td>178</td>\n",
       "      <td>99.74157303370787</td>\n",
       "      <td>14.282483515295652</td>\n",
       "      <td>70.0</td>\n",
       "      <td>162.0</td>\n",
       "    </tr>\n",
       "    <tr>\n",
       "      <th>Total_Phenols</th>\n",
       "      <td>178</td>\n",
       "      <td>2.2951123567109697</td>\n",
       "      <td>0.6258510502984755</td>\n",
       "      <td>0.98</td>\n",
       "      <td>3.88</td>\n",
       "    </tr>\n",
       "    <tr>\n",
       "      <th>Flavanoids</th>\n",
       "      <td>178</td>\n",
       "      <td>2.0292696758602444</td>\n",
       "      <td>0.9988586941936791</td>\n",
       "      <td>0.34</td>\n",
       "      <td>5.08</td>\n",
       "    </tr>\n",
       "    <tr>\n",
       "      <th>Nonflavanoid_Phenols</th>\n",
       "      <td>178</td>\n",
       "      <td>0.3618539305550329</td>\n",
       "      <td>0.12445333944254397</td>\n",
       "      <td>0.13</td>\n",
       "      <td>0.66</td>\n",
       "    </tr>\n",
       "    <tr>\n",
       "      <th>Proanthocyanins</th>\n",
       "      <td>178</td>\n",
       "      <td>1.5908988746029606</td>\n",
       "      <td>0.5723588647599089</td>\n",
       "      <td>0.41</td>\n",
       "      <td>3.58</td>\n",
       "    </tr>\n",
       "    <tr>\n",
       "      <th>Color_Intensity</th>\n",
       "      <td>178</td>\n",
       "      <td>5.0580898744336675</td>\n",
       "      <td>2.3182858759526286</td>\n",
       "      <td>1.28</td>\n",
       "      <td>13.0</td>\n",
       "    </tr>\n",
       "    <tr>\n",
       "      <th>Hue</th>\n",
       "      <td>178</td>\n",
       "      <td>0.9574494380294607</td>\n",
       "      <td>0.22857156648789076</td>\n",
       "      <td>0.48</td>\n",
       "      <td>1.71</td>\n",
       "    </tr>\n",
       "    <tr>\n",
       "      <th>OD280</th>\n",
       "      <td>178</td>\n",
       "      <td>2.611685391222493</td>\n",
       "      <td>0.7099904308621517</td>\n",
       "      <td>1.27</td>\n",
       "      <td>4.0</td>\n",
       "    </tr>\n",
       "    <tr>\n",
       "      <th>Proline</th>\n",
       "      <td>178</td>\n",
       "      <td>746.8932584269663</td>\n",
       "      <td>314.9074742768492</td>\n",
       "      <td>278.0</td>\n",
       "      <td>1680.0</td>\n",
       "    </tr>\n",
       "  </tbody>\n",
       "</table>\n",
       "</div>"
      ],
      "text/plain": [
       "                          0                   1                    2      3  \\\n",
       "summary               count                mean               stddev    min   \n",
       "alcohol                 178   13.00061797559931   0.8118265466246918  11.03   \n",
       "Malic_Acid              178   2.336348312289527   1.1171461004519325   0.74   \n",
       "Ash                     178  2.3665168533164462   0.2743440072687038   1.36   \n",
       "Ash_Alcanity            178  19.494943806294646    3.339563774928806   10.6   \n",
       "Magnesium               178   99.74157303370787   14.282483515295652   70.0   \n",
       "Total_Phenols           178  2.2951123567109697   0.6258510502984755   0.98   \n",
       "Flavanoids              178  2.0292696758602444   0.9988586941936791   0.34   \n",
       "Nonflavanoid_Phenols    178  0.3618539305550329  0.12445333944254397   0.13   \n",
       "Proanthocyanins         178  1.5908988746029606   0.5723588647599089   0.41   \n",
       "Color_Intensity         178  5.0580898744336675   2.3182858759526286   1.28   \n",
       "Hue                     178  0.9574494380294607  0.22857156648789076   0.48   \n",
       "OD280                   178   2.611685391222493   0.7099904308621517   1.27   \n",
       "Proline                 178   746.8932584269663    314.9074742768492  278.0   \n",
       "\n",
       "                           4  \n",
       "summary                  max  \n",
       "alcohol                14.83  \n",
       "Malic_Acid               5.8  \n",
       "Ash                     3.23  \n",
       "Ash_Alcanity            30.0  \n",
       "Magnesium              162.0  \n",
       "Total_Phenols           3.88  \n",
       "Flavanoids              5.08  \n",
       "Nonflavanoid_Phenols    0.66  \n",
       "Proanthocyanins         3.58  \n",
       "Color_Intensity         13.0  \n",
       "Hue                     1.71  \n",
       "OD280                    4.0  \n",
       "Proline               1680.0  "
      ]
     },
     "execution_count": 14,
     "metadata": {},
     "output_type": "execute_result"
    }
   ],
   "source": [
    "numeric_cols = [t[0] for t in df.dtypes if t[1] == 'float']\n",
    "df2 = df.select(numeric_cols).describe().toPandas().transpose()\n",
    "df2"
   ]
  },
  {
   "cell_type": "markdown",
   "metadata": {},
   "source": [
    "Mô tả dữ liệu của các cột số:\n",
    "- alcohol: Không bị thiếu giá trị, giá trị trung bình ~13, độ lệch chuẩn: ~0.81, Giá trị nhỏ nhất: 11.03,giá trị lớn nhất: 14.83 \n",
    "- Malic_Acid: Không bị thiếu giá trị, giá trị trung bình ~2.33, độ lệch chuẩn: ~1.12, Giá trị nhỏ nhất: 0.74,giá trị lớn nhất: 5.8 \n",
    "- Ash\t: Không bị thiếu giá trị, giá trị trung bình ~2.37, độ lệch chuẩn: ~0.27, Giá trị nhỏ nhất:1.36 ,giá trị lớn nhất: 3.23 \n",
    "- Ash_Alcanity: Không bị thiếu giá trị, giá trị trung bình ~19.5, độ lệch chuẩn: 3.34, Giá trị nhỏ nhất: 10.6 ,giá trị lớn nhất: 30\n",
    "- Magnesium: Không bị thiếu giá trị, giá trị trung bình ~99.74, độ lệch chuẩn: ~14.28, Giá trị nhỏ nhất: 70,giá trị lớn nhất: 162\n",
    "- Total_Phenols\t: Không bị thiếu giá trị, giá trị trung bình ~2.3, độ lệch chuẩn: ~0.63, Giá trị nhỏ nhất: 0.98,giá trị lớn nhất: 3.88\n",
    "- Flavanoids: Không bị thiếu giá trị, giá trị trung bình ~2.03, độ lệch chuẩn: ~0.9988, Giá trị nhỏ nhất: 0.34,giá trị lớn nhất: 5.08 \n",
    "- Nonflavanoid_Phenols: Không bị thiếu giá trị, giá trị trung bình ~0.36, độ lệch chuẩn: ~0.124, Giá trị nhỏ nhất: 0.13,giá trị lớn nhất: 0.66\n",
    "- Proanthocyanins: Không bị thiếu giá trị, giá trị trung bình ~1.59, độ lệch chuẩn: ~0.57, Giá trị nhỏ nhất: 0.41,giá trị lớn nhất: 3.58 \n",
    "- Color_Intensity: Không bị thiếu giá trị, giá trị trung bình ~5.06, độ lệch chuẩn: ~2.32, Giá trị nhỏ nhất: 1.28,giá trị lớn nhất: 13 \n",
    "- Hue: Không bị thiếu giá trị, giá trị trung bình ~0.96, độ lệch chuẩn: ~0.23, Giá trị nhỏ nhất: 0.48,giá trị lớn nhất: 1.71 \n",
    "- OD280: Không bị thiếu giá trị, giá trị trung bình ~2.61, độ lệch chuẩn: ~0.71, Giá trị nhỏ nhất: 1.27,giá trị lớn nhất: 4\n",
    "- Proline: Không bị thiếu giá trị, giá trị trung bình ~746.89, độ lệch chuẩn: ~314.91, Giá trị nhỏ nhất: 278,giá trị lớn nhất: 1680"
   ]
  },
  {
   "cell_type": "code",
   "execution_count": 15,
   "metadata": {},
   "outputs": [
    {
     "name": "stdout",
     "output_type": "stream",
     "text": [
      "Chỉ số tướng quan giứa cột alcohol và cột alcohol là: 1.0\n",
      "Chỉ số tướng quan giứa cột alcohol và cột Malic_Acid là: 0.09439693153136894\n",
      "Chỉ số tướng quan giứa cột alcohol và cột Ash là: 0.21154460751527823\n",
      "Chỉ số tướng quan giứa cột alcohol và cột Ash_Alcanity là: -0.31023516889213654\n",
      "Chỉ số tướng quan giứa cột alcohol và cột Magnesium là: 0.27079827249167493\n",
      "Chỉ số tướng quan giứa cột alcohol và cột Total_Phenols là: 0.2891011043777978\n",
      "Chỉ số tướng quan giứa cột alcohol và cột Flavanoids là: 0.23681494465985697\n",
      "Chỉ số tướng quan giứa cột alcohol và cột Nonflavanoid_Phenols là: -0.1559294638558501\n",
      "Chỉ số tướng quan giứa cột alcohol và cột Proanthocyanins là: 0.1366979214547822\n",
      "Chỉ số tướng quan giứa cột alcohol và cột Color_Intensity là: 0.5463641539473397\n",
      "Chỉ số tướng quan giứa cột alcohol và cột Hue là: -0.07174720231913999\n",
      "Chỉ số tướng quan giứa cột alcohol và cột OD280 là: 0.07234321627197132\n",
      "Chỉ số tướng quan giứa cột alcohol và cột Proline là: 0.6437200499040044\n",
      "Chỉ số tướng quan giứa cột Malic_Acid và cột alcohol là: 0.09439693153136891\n",
      "Chỉ số tướng quan giứa cột Malic_Acid và cột Malic_Acid là: 1.0\n",
      "Chỉ số tướng quan giứa cột Malic_Acid và cột Ash là: 0.16404548757247583\n",
      "Chỉ số tướng quan giứa cột Malic_Acid và cột Ash_Alcanity là: 0.28850039659902127\n",
      "Chỉ số tướng quan giứa cột Malic_Acid và cột Magnesium là: -0.054575098059895695\n",
      "Chỉ số tướng quan giứa cột Malic_Acid và cột Total_Phenols là: -0.33516700971319086\n",
      "Chỉ số tướng quan giứa cột Malic_Acid và cột Flavanoids là: -0.41100658503431936\n",
      "Chỉ số tướng quan giứa cột Malic_Acid và cột Nonflavanoid_Phenols là: 0.29297714745546066\n",
      "Chỉ số tướng quan giứa cột Malic_Acid và cột Proanthocyanins là: -0.2207461897058149\n",
      "Chỉ số tướng quan giứa cột Malic_Acid và cột Color_Intensity là: 0.2489853464484573\n",
      "Chỉ số tướng quan giứa cột Malic_Acid và cột Hue là: -0.561295686226532\n",
      "Chỉ số tướng quan giứa cột Malic_Acid và cột OD280 là: -0.3687104329932166\n",
      "Chỉ số tướng quan giứa cột Malic_Acid và cột Proline là: -0.19201056580528095\n",
      "Chỉ số tướng quan giứa cột Ash và cột alcohol là: 0.21154460751527818\n",
      "Chỉ số tướng quan giứa cột Ash và cột Malic_Acid là: 0.16404548757247575\n",
      "Chỉ số tướng quan giứa cột Ash và cột Ash là: 1.0\n",
      "Chỉ số tướng quan giứa cột Ash và cột Ash_Alcanity là: 0.44336719561924715\n",
      "Chỉ số tướng quan giứa cột Ash và cột Magnesium là: 0.2865866664128624\n",
      "Chỉ số tướng quan giứa cột Ash và cột Total_Phenols là: 0.12897955831417027\n",
      "Chỉ số tướng quan giứa cột Ash và cột Flavanoids là: 0.11507729058336404\n",
      "Chỉ số tướng quan giứa cột Ash và cột Nonflavanoid_Phenols là: 0.1862304607437346\n",
      "Chỉ số tướng quan giứa cột Ash và cột Proanthocyanins là: 0.0096519852926984\n",
      "Chỉ số tướng quan giứa cột Ash và cột Color_Intensity là: 0.2588872539829394\n",
      "Chỉ số tướng quan giứa cột Ash và cột Hue là: -0.07466688101125328\n",
      "Chỉ số tướng quan giứa cột Ash và cột OD280 là: 0.003911242323602035\n",
      "Chỉ số tướng quan giứa cột Ash và cột Proline là: 0.22362625824805185\n",
      "Chỉ số tướng quan giứa cột Ash_Alcanity và cột alcohol là: -0.3102351688921364\n",
      "Chỉ số tướng quan giứa cột Ash_Alcanity và cột Malic_Acid là: 0.2885003965990213\n",
      "Chỉ số tướng quan giứa cột Ash_Alcanity và cột Ash là: 0.44336719561924737\n",
      "Chỉ số tướng quan giứa cột Ash_Alcanity và cột Ash_Alcanity là: 1.0\n",
      "Chỉ số tướng quan giứa cột Ash_Alcanity và cột Magnesium là: -0.08333309242660357\n",
      "Chỉ số tướng quan giứa cột Ash_Alcanity và cột Total_Phenols là: -0.32111331889437494\n",
      "Chỉ số tướng quan giứa cột Ash_Alcanity và cột Flavanoids là: -0.3513698607933076\n",
      "Chỉ số tướng quan giứa cột Ash_Alcanity và cột Nonflavanoid_Phenols là: 0.36192172281767343\n",
      "Chỉ số tướng quan giứa cột Ash_Alcanity và cột Proanthocyanins là: -0.19732683437530998\n",
      "Chỉ số tướng quan giứa cột Ash_Alcanity và cột Color_Intensity là: 0.018731978449806053\n",
      "Chỉ số tướng quan giứa cột Ash_Alcanity và cột Hue là: -0.2739552108445145\n",
      "Chỉ số tướng quan giứa cột Ash_Alcanity và cột OD280 là: -0.27676854117312066\n",
      "Chỉ số tướng quan giứa cột Ash_Alcanity và cột Proline là: -0.44059693077888995\n",
      "Chỉ số tướng quan giứa cột Magnesium và cột alcohol là: 0.27079827249167476\n",
      "Chỉ số tướng quan giứa cột Magnesium và cột Malic_Acid là: -0.054575098059895764\n",
      "Chỉ số tướng quan giứa cột Magnesium và cột Ash là: 0.28658666641286257\n",
      "Chỉ số tướng quan giứa cột Magnesium và cột Ash_Alcanity là: -0.08333309242660358\n",
      "Chỉ số tướng quan giứa cột Magnesium và cột Magnesium là: 1.0\n",
      "Chỉ số tướng quan giứa cột Magnesium và cột Total_Phenols là: 0.2144012398618013\n",
      "Chỉ số tướng quan giứa cột Magnesium và cột Flavanoids là: 0.19578377011246798\n",
      "Chỉ số tướng quan giứa cột Magnesium và cột Nonflavanoid_Phenols là: -0.25629404775261777\n",
      "Chỉ số tướng quan giứa cột Magnesium và cột Proanthocyanins là: 0.23644060698947503\n",
      "Chỉ số tướng quan giứa cột Magnesium và cột Color_Intensity là: 0.1999500061094147\n",
      "Chỉ số tướng quan giứa cột Magnesium và cột Hue là: 0.055398175615347385\n",
      "Chỉ số tướng quan giứa cột Magnesium và cột OD280 là: 0.06600393607449091\n",
      "Chỉ số tướng quan giứa cột Magnesium và cột Proline là: 0.3933508493830868\n",
      "Chỉ số tướng quan giứa cột Total_Phenols và cột alcohol là: 0.2891011043777978\n",
      "Chỉ số tướng quan giứa cột Total_Phenols và cột Malic_Acid là: -0.33516700971319086\n",
      "Chỉ số tướng quan giứa cột Total_Phenols và cột Ash là: 0.12897955831417038\n",
      "Chỉ số tướng quan giứa cột Total_Phenols và cột Ash_Alcanity là: -0.32111331889437494\n",
      "Chỉ số tướng quan giứa cột Total_Phenols và cột Magnesium là: 0.2144012398618012\n",
      "Chỉ số tướng quan giứa cột Total_Phenols và cột Total_Phenols là: 1.0\n",
      "Chỉ số tướng quan giứa cột Total_Phenols và cột Flavanoids là: 0.8645635030948777\n",
      "Chỉ số tướng quan giứa cột Total_Phenols và cột Nonflavanoid_Phenols là: -0.44993531673830506\n",
      "Chỉ số tướng quan giứa cột Total_Phenols và cột Proanthocyanins là: 0.6124130971507735\n",
      "Chỉ số tướng quan giứa cột Total_Phenols và cột Color_Intensity là: -0.055136426231328556\n",
      "Chỉ số tướng quan giứa cột Total_Phenols và cột Hue là: 0.4336813467804712\n",
      "Chỉ số tướng quan giứa cột Total_Phenols và cột OD280 là: 0.6999493704969838\n",
      "Chỉ số tướng quan giứa cột Total_Phenols và cột Proline là: 0.49811487877104077\n",
      "Chỉ số tướng quan giứa cột Flavanoids và cột alcohol là: 0.23681494465985678\n",
      "Chỉ số tướng quan giứa cột Flavanoids và cột Malic_Acid là: -0.4110065850343194\n",
      "Chỉ số tướng quan giứa cột Flavanoids và cột Ash là: 0.11507729058336405\n",
      "Chỉ số tướng quan giứa cột Flavanoids và cột Ash_Alcanity là: -0.35136986079330756\n",
      "Chỉ số tướng quan giứa cột Flavanoids và cột Magnesium là: 0.19578377011246803\n",
      "Chỉ số tướng quan giứa cột Flavanoids và cột Total_Phenols là: 0.8645635030948776\n",
      "Chỉ số tướng quan giứa cột Flavanoids và cột Flavanoids là: 1.0\n",
      "Chỉ số tướng quan giứa cột Flavanoids và cột Nonflavanoid_Phenols là: -0.5378996084493471\n",
      "Chỉ số tướng quan giứa cột Flavanoids và cột Proanthocyanins là: 0.6526917732670973\n",
      "Chỉ số tướng quan giứa cột Flavanoids và cột Color_Intensity là: -0.17237940114326317\n",
      "Chỉ số tướng quan giứa cột Flavanoids và cột Hue là: 0.5434785713676337\n",
      "Chỉ số tướng quan giứa cột Flavanoids và cột OD280 là: 0.7871938959754041\n",
      "Chỉ số tướng quan giứa cột Flavanoids và cột Proline là: 0.4941931331528425\n",
      "Chỉ số tướng quan giứa cột Nonflavanoid_Phenols và cột alcohol là: -0.15592946385585021\n",
      "Chỉ số tướng quan giứa cột Nonflavanoid_Phenols và cột Malic_Acid là: 0.2929771474554606\n",
      "Chỉ số tướng quan giứa cột Nonflavanoid_Phenols và cột Ash là: 0.18623046074373434\n",
      "Chỉ số tướng quan giứa cột Nonflavanoid_Phenols và cột Ash_Alcanity là: 0.3619217228176735\n",
      "Chỉ số tướng quan giứa cột Nonflavanoid_Phenols và cột Magnesium là: -0.2562940477526177\n",
      "Chỉ số tướng quan giứa cột Nonflavanoid_Phenols và cột Total_Phenols là: -0.4499353167383053\n",
      "Chỉ số tướng quan giứa cột Nonflavanoid_Phenols và cột Flavanoids là: -0.5378996084493471\n",
      "Chỉ số tướng quan giứa cột Nonflavanoid_Phenols và cột Nonflavanoid_Phenols là: 1.0\n",
      "Chỉ số tướng quan giứa cột Nonflavanoid_Phenols và cột Proanthocyanins là: -0.3658451142280229\n",
      "Chỉ số tướng quan giứa cột Nonflavanoid_Phenols và cột Color_Intensity là: 0.13905700707233498\n",
      "Chỉ số tướng quan giứa cột Nonflavanoid_Phenols và cột Hue là: -0.2626396154523066\n",
      "Chỉ số tướng quan giứa cột Nonflavanoid_Phenols và cột OD280 là: -0.5032695865610018\n",
      "Chỉ số tướng quan giứa cột Nonflavanoid_Phenols và cột Proline là: -0.31138518823028727\n",
      "Chỉ số tướng quan giứa cột Proanthocyanins và cột alcohol là: 0.13669792145478227\n",
      "Chỉ số tướng quan giứa cột Proanthocyanins và cột Malic_Acid là: -0.22074618970581486\n",
      "Chỉ số tướng quan giứa cột Proanthocyanins và cột Ash là: 0.00965198529269848\n",
      "Chỉ số tướng quan giứa cột Proanthocyanins và cột Ash_Alcanity là: -0.19732683437531007\n",
      "Chỉ số tướng quan giứa cột Proanthocyanins và cột Magnesium là: 0.23644060698947503\n",
      "Chỉ số tướng quan giứa cột Proanthocyanins và cột Total_Phenols là: 0.6124130971507734\n",
      "Chỉ số tướng quan giứa cột Proanthocyanins và cột Flavanoids là: 0.6526917732670975\n",
      "Chỉ số tướng quan giứa cột Proanthocyanins và cột Nonflavanoid_Phenols là: -0.36584511422802307\n",
      "Chỉ số tướng quan giứa cột Proanthocyanins và cột Proanthocyanins là: 1.0\n",
      "Chỉ số tướng quan giứa cột Proanthocyanins và cột Color_Intensity là: -0.025249927862000383\n",
      "Chỉ số tướng quan giứa cột Proanthocyanins và cột Hue là: 0.29554425742205803\n",
      "Chỉ số tướng quan giứa cột Proanthocyanins và cột OD280 là: 0.5190670995284558\n",
      "Chỉ số tướng quan giứa cột Proanthocyanins và cột Proline là: 0.33041671759200336\n",
      "Chỉ số tướng quan giứa cột Color_Intensity và cột alcohol là: 0.5463641539473397\n",
      "Chỉ số tướng quan giứa cột Color_Intensity và cột Malic_Acid là: 0.24898534644845735\n",
      "Chỉ số tướng quan giứa cột Color_Intensity và cột Ash là: 0.25888725398293944\n",
      "Chỉ số tướng quan giứa cột Color_Intensity và cột Ash_Alcanity là: 0.018731978449806102\n",
      "Chỉ số tướng quan giứa cột Color_Intensity và cột Magnesium là: 0.19995000610941466\n",
      "Chỉ số tướng quan giứa cột Color_Intensity và cột Total_Phenols là: -0.05513642623132856\n",
      "Chỉ số tướng quan giứa cột Color_Intensity và cột Flavanoids là: -0.17237940114326314\n",
      "Chỉ số tướng quan giứa cột Color_Intensity và cột Nonflavanoid_Phenols là: 0.13905700707233495\n",
      "Chỉ số tướng quan giứa cột Color_Intensity và cột Proanthocyanins là: -0.02524992786200048\n",
      "Chỉ số tướng quan giứa cột Color_Intensity và cột Color_Intensity là: 1.0\n",
      "Chỉ số tướng quan giứa cột Color_Intensity và cột Hue là: -0.5218131884788126\n",
      "Chỉ số tướng quan giứa cột Color_Intensity và cột OD280 là: -0.4288149430058591\n",
      "Chỉ số tướng quan giứa cột Color_Intensity và cột Proline là: 0.3161001095570682\n",
      "Chỉ số tướng quan giứa cột Hue và cột alcohol là: -0.07174720231913993\n",
      "Chỉ số tướng quan giứa cột Hue và cột Malic_Acid là: -0.5612956862265318\n",
      "Chỉ số tướng quan giứa cột Hue và cột Ash là: -0.07466688101125328\n",
      "Chỉ số tướng quan giứa cột Hue và cột Ash_Alcanity là: -0.2739552108445146\n",
      "Chỉ số tướng quan giứa cột Hue và cột Magnesium là: 0.05539817561534732\n",
      "Chỉ số tướng quan giứa cột Hue và cột Total_Phenols là: 0.43368134678047116\n",
      "Chỉ số tướng quan giứa cột Hue và cột Flavanoids là: 0.5434785713676337\n",
      "Chỉ số tướng quan giứa cột Hue và cột Nonflavanoid_Phenols là: -0.2626396154523065\n",
      "Chỉ số tướng quan giứa cột Hue và cột Proanthocyanins là: 0.2955442574220581\n",
      "Chỉ số tướng quan giứa cột Hue và cột Color_Intensity là: -0.5218131884788126\n",
      "Chỉ số tướng quan giứa cột Hue và cột Hue là: 1.0\n",
      "Chỉ số tướng quan giứa cột Hue và cột OD280 là: 0.565468285848176\n",
      "Chỉ số tướng quan giứa cột Hue và cột Proline là: 0.23618344370270283\n",
      "Chỉ số tướng quan giứa cột OD280 và cột alcohol là: 0.07234321627197152\n",
      "Chỉ số tướng quan giứa cột OD280 và cột Malic_Acid là: -0.36871043299321665\n",
      "Chỉ số tướng quan giứa cột OD280 và cột Ash là: 0.00391124232360198\n",
      "Chỉ số tướng quan giứa cột OD280 và cột Ash_Alcanity là: -0.2767685411731206\n",
      "Chỉ số tướng quan giứa cột OD280 và cột Magnesium là: 0.06600393607449086\n",
      "Chỉ số tướng quan giứa cột OD280 và cột Total_Phenols là: 0.6999493704969838\n",
      "Chỉ số tướng quan giứa cột OD280 và cột Flavanoids là: 0.7871938959754041\n",
      "Chỉ số tướng quan giứa cột OD280 và cột Nonflavanoid_Phenols là: -0.5032695865610018\n",
      "Chỉ số tướng quan giứa cột OD280 và cột Proanthocyanins là: 0.5190670995284558\n",
      "Chỉ số tướng quan giứa cột OD280 và cột Color_Intensity là: -0.4288149430058591\n",
      "Chỉ số tướng quan giứa cột OD280 và cột Hue là: 0.5654682858481761\n",
      "Chỉ số tướng quan giứa cột OD280 và cột OD280 là: 1.0\n",
      "Chỉ số tướng quan giứa cột OD280 và cột Proline là: 0.31276107469844\n",
      "Chỉ số tướng quan giứa cột Proline và cột alcohol là: 0.6437200499040046\n",
      "Chỉ số tướng quan giứa cột Proline và cột Malic_Acid là: -0.19201056580528106\n",
      "Chỉ số tướng quan giứa cột Proline và cột Ash là: 0.22362625824805168\n",
      "Chỉ số tướng quan giứa cột Proline và cột Ash_Alcanity là: -0.44059693077889006\n",
      "Chỉ số tướng quan giứa cột Proline và cột Magnesium là: 0.3933508493830866\n",
      "Chỉ số tướng quan giứa cột Proline và cột Total_Phenols là: 0.4981148787710409\n",
      "Chỉ số tướng quan giứa cột Proline và cột Flavanoids là: 0.4941931331528426\n",
      "Chỉ số tướng quan giứa cột Proline và cột Nonflavanoid_Phenols là: -0.3113851882302873\n",
      "Chỉ số tướng quan giứa cột Proline và cột Proanthocyanins là: 0.33041671759200336\n",
      "Chỉ số tướng quan giứa cột Proline và cột Color_Intensity là: 0.31610010955706813\n",
      "Chỉ số tướng quan giứa cột Proline và cột Hue là: 0.23618344370270283\n",
      "Chỉ số tướng quan giứa cột Proline và cột OD280 là: 0.31276107469844\n",
      "Chỉ số tướng quan giứa cột Proline và cột Proline là: 1.0\n"
     ]
    }
   ],
   "source": [
    "#Kiểm Tra độ tương quan\n",
    "from pyspark.sql.functions import isnan, isnull, when, count, col\n",
    "for col1 in numeric_cols:\n",
    "    for col2 in numeric_cols:\n",
    "        print(\"Chỉ số tướng quan giứa cột {} và cột {} là: {}\".format(col1, col2, df.stat.corr(col1, col2)))"
   ]
  },
  {
   "cell_type": "markdown",
   "metadata": {},
   "source": [
    "Hệ số tương quan là chỉ số thống kê đo lường mức độ mạnh yếu của mối quan hệ giữa hai biến số. Trong đó:\n",
    "\n",
    "Hệ số tương quan có giá trị từ -1.0 đến 1.0. Kết quả được tính ra lớn hơn 1.0 hoặc nhỏ hơn -1 có nghĩa là có lỗi trong phép đo tương quan.\n",
    "\n",
    "- Hệ số tương quan có giá trị âm cho thấy hai biến có mối quan hệ nghịch biến hoặc tương quan âm (nghịch biến tuyệt đối khi giá trị bằng -1)\n",
    "\n",
    "- Hệ số tương quan có giá trị dương cho thấy mối quan hệ đồng biến hoặc tương quan dương (đồng biến tuyệt đối khi giá trị bằng 1)\n",
    "\n",
    "- Tương quan bằng 0 cho hai biến độc lập với nhau."
   ]
  },
  {
   "cell_type": "markdown",
   "metadata": {},
   "source": [
    "### Trực quan dữ liệu"
   ]
  },
  {
   "cell_type": "markdown",
   "metadata": {},
   "source": [
    "<b> Biểu đồ chỉ số tương quan các cột <b>"
   ]
  },
  {
   "cell_type": "code",
   "execution_count": null,
   "metadata": {},
   "outputs": [],
   "source": [
    "numeric_data = df.select(numeric_cols).toPandas()\n",
    "import pandas as pd\n",
    "import matplotlib.pyplot as plt\n",
    "import seaborn as sns\n",
    "a = numeric_data.corr()\n",
    "sns.heatmap(a, annot=True)"
   ]
  },
  {
   "cell_type": "code",
   "execution_count": null,
   "metadata": {},
   "outputs": [],
   "source": [
    "axs = pd.plotting.scatter_matrix(numeric_data,figsize=(10,10))\n",
    "n= len(numeric_cols)\n",
    "for i in range(n):\n",
    "    v = axs[i,0]\n",
    "    v.yaxis.label.set_rotation(0)\n",
    "    v.yaxis.label.set_ha('right')\n",
    "    v.set_yticks(())\n",
    "    h= axs[n-1,i]\n",
    "    h.xaxis.label.set_rotation(90)\n",
    "    h.set_xticks(())"
   ]
  },
  {
   "cell_type": "markdown",
   "metadata": {},
   "source": [
    "<b> Biểu đồ thể hiện chỉ số của từng cột (giải thích số liệu ở phần mô tả dữ liệu) <b>"
   ]
  },
  {
   "cell_type": "code",
   "execution_count": null,
   "metadata": {},
   "outputs": [],
   "source": [
    "d1=df.select('alcohol').toPandas()\n",
    "d1.boxplot()"
   ]
  },
  {
   "cell_type": "code",
   "execution_count": null,
   "metadata": {},
   "outputs": [],
   "source": [
    "d2=df.select('Malic_Acid').toPandas()\n",
    "d2.boxplot()"
   ]
  },
  {
   "cell_type": "code",
   "execution_count": null,
   "metadata": {},
   "outputs": [],
   "source": [
    "Ash=df.select('Ash').toPandas()\n",
    "Ash.boxplot()"
   ]
  },
  {
   "cell_type": "code",
   "execution_count": null,
   "metadata": {},
   "outputs": [],
   "source": [
    "Ash_Alcanity=df.select('Ash_Alcanity').toPandas()\n",
    "Ash_Alcanity.boxplot()"
   ]
  },
  {
   "cell_type": "code",
   "execution_count": null,
   "metadata": {},
   "outputs": [],
   "source": [
    "Magnesium=df.select('Magnesium').toPandas()\n",
    "Magnesium.boxplot()"
   ]
  },
  {
   "cell_type": "code",
   "execution_count": null,
   "metadata": {},
   "outputs": [],
   "source": [
    "Total_Phenols=df.select('Total_Phenols').toPandas()\n",
    "Total_Phenols.boxplot()"
   ]
  },
  {
   "cell_type": "code",
   "execution_count": null,
   "metadata": {},
   "outputs": [],
   "source": [
    "Flavanoids=df.select('Flavanoids').toPandas()\n",
    "Flavanoids.boxplot()"
   ]
  },
  {
   "cell_type": "code",
   "execution_count": null,
   "metadata": {},
   "outputs": [],
   "source": [
    "Nonflavanoid_Phenols=df.select('Nonflavanoid_Phenols').toPandas()\n",
    "Nonflavanoid_Phenols.boxplot()"
   ]
  },
  {
   "cell_type": "code",
   "execution_count": null,
   "metadata": {},
   "outputs": [],
   "source": [
    "Proanthocyanins=df.select('Proanthocyanins').toPandas()\n",
    "Proanthocyanins.boxplot()"
   ]
  },
  {
   "cell_type": "code",
   "execution_count": null,
   "metadata": {},
   "outputs": [],
   "source": [
    "Color_Intensity=df.select('Color_Intensity').toPandas()\n",
    "Color_Intensity.boxplot()"
   ]
  },
  {
   "cell_type": "code",
   "execution_count": null,
   "metadata": {},
   "outputs": [],
   "source": [
    "Hue=df.select('Hue').toPandas()\n",
    "Hue.boxplot()"
   ]
  },
  {
   "cell_type": "code",
   "execution_count": null,
   "metadata": {},
   "outputs": [],
   "source": [
    "OD280=df.select('OD280').toPandas()\n",
    "OD280.boxplot()"
   ]
  },
  {
   "cell_type": "code",
   "execution_count": null,
   "metadata": {},
   "outputs": [],
   "source": [
    "Proline=df.select('Proline').toPandas()\n",
    "Proline.boxplot()"
   ]
  },
  {
   "cell_type": "markdown",
   "metadata": {},
   "source": [
    "### Tìm và xử lý dữ liệu trống (Null)"
   ]
  },
  {
   "cell_type": "code",
   "execution_count": null,
   "metadata": {},
   "outputs": [],
   "source": [
    "print(\"Số dòng null: {}\".format(df.filter('alcohol is null').count()))\n",
    "df.groupBy('alcohol').count().orderBy(col('count').desc()).show()"
   ]
  },
  {
   "cell_type": "code",
   "execution_count": null,
   "metadata": {},
   "outputs": [],
   "source": [
    "print(\"Số dòng null: {}\".format(df.filter('Malic_Acid is null').count()))\n",
    "df.groupBy('Malic_Acid').count().orderBy(col('count').desc()).show()"
   ]
  },
  {
   "cell_type": "code",
   "execution_count": null,
   "metadata": {},
   "outputs": [],
   "source": [
    "print(\"Số dòng null: {}\".format(df.filter('Ash is null').count()))\n",
    "df.groupBy('Ash').count().orderBy(col('count').desc()).show()"
   ]
  },
  {
   "cell_type": "code",
   "execution_count": null,
   "metadata": {
    "scrolled": true
   },
   "outputs": [],
   "source": [
    "print(\"Số dòng null: {}\".format(df.filter('Ash_Alcanity is null').count()))\n",
    "df.groupBy('Ash_Alcanity').count().orderBy(col('count').desc()).show()"
   ]
  },
  {
   "cell_type": "code",
   "execution_count": null,
   "metadata": {},
   "outputs": [],
   "source": [
    "print(\"Số dòng null: {}\".format(df.filter('Magnesium is null').count()))\n",
    "df.groupBy('Magnesium').count().orderBy(col('count').desc()).show()"
   ]
  },
  {
   "cell_type": "code",
   "execution_count": null,
   "metadata": {},
   "outputs": [],
   "source": [
    "print(\"Số dòng null: {}\".format(df.filter('Total_Phenols is null').count()))\n",
    "df.groupBy('Total_Phenols').count().orderBy(col('count').desc()).show()"
   ]
  },
  {
   "cell_type": "code",
   "execution_count": null,
   "metadata": {},
   "outputs": [],
   "source": [
    "print(\"Số dòng null: {}\".format(df.filter('Flavanoids is null').count()))\n",
    "df.groupBy('Flavanoids').count().orderBy(col('count').desc()).show()"
   ]
  },
  {
   "cell_type": "code",
   "execution_count": null,
   "metadata": {},
   "outputs": [],
   "source": [
    "print(\"Số dòng null: {}\".format(df.filter('Nonflavanoid_Phenols is null').count()))\n",
    "df.groupBy('Nonflavanoid_Phenols').count().orderBy(col('count').desc()).show()"
   ]
  },
  {
   "cell_type": "code",
   "execution_count": null,
   "metadata": {},
   "outputs": [],
   "source": [
    "print(\"Số dòng null: {}\".format(df.filter('Proanthocyanins is null').count()))\n",
    "df.groupBy('Proanthocyanins').count().orderBy(col('count').desc()).show()"
   ]
  },
  {
   "cell_type": "code",
   "execution_count": null,
   "metadata": {},
   "outputs": [],
   "source": [
    "print(\"Số dòng null: {}\".format(df.filter('Color_Intensity is null').count()))\n",
    "df.groupBy('Color_Intensity').count().orderBy(col('count').desc()).show()"
   ]
  },
  {
   "cell_type": "code",
   "execution_count": null,
   "metadata": {},
   "outputs": [],
   "source": [
    "print(\"Số dòng null: {}\".format(df.filter('Hue is null').count()))\n",
    "df.groupBy('Hue').count().orderBy(col('count').desc()).show()"
   ]
  },
  {
   "cell_type": "code",
   "execution_count": null,
   "metadata": {},
   "outputs": [],
   "source": [
    "print(\"Số dòng null: {}\".format(df.filter('OD280 is null').count()))\n",
    "df.groupBy('OD280').count().orderBy(col('count').desc()).show()"
   ]
  },
  {
   "cell_type": "code",
   "execution_count": null,
   "metadata": {},
   "outputs": [],
   "source": [
    "print(\"Số dòng null: {}\".format(df.filter('Proline is null').count()))\n",
    "df.groupBy('Proline').count().orderBy(col('count').desc()).show()"
   ]
  },
  {
   "cell_type": "markdown",
   "metadata": {},
   "source": [
    "Từ kết quả điếm số null ta nhận thấy dữ liệu khá hoàn chỉnh không có dữ liệu trống"
   ]
  },
  {
   "cell_type": "markdown",
   "metadata": {},
   "source": [
    "# 3. Tiền xử lý & Xây dựng mô hình"
   ]
  },
  {
   "cell_type": "markdown",
   "metadata": {},
   "source": [
    "### Tiền xử lý dữ liệu"
   ]
  },
  {
   "cell_type": "code",
   "execution_count": null,
   "metadata": {},
   "outputs": [],
   "source": [
    "from pyspark.ml.feature import VectorAssembler\n",
    "from pyspark.ml.clustering import KMeans\n",
    "\n",
    "assembler = VectorAssembler(inputCols = df.columns, outputCol = 'features')\n",
    "final_df = assembler.transform(df)\n",
    "final_df.toPandas()"
   ]
  },
  {
   "cell_type": "markdown",
   "metadata": {},
   "source": [
    "<b> StandardScaler: Chuẩn hóa dữ liệu <b>"
   ]
  },
  {
   "cell_type": "code",
   "execution_count": null,
   "metadata": {
    "scrolled": true
   },
   "outputs": [],
   "source": [
    "from pyspark.ml.feature import StandardScaler\n",
    "\n",
    "scaler = StandardScaler(inputCol = 'features', outputCol = 'scaledFeatures')\n",
    "scaler_model = scaler.fit(final_df)\n",
    "final_df = scaler_model.transform(final_df)\n",
    "final_df.toPandas()"
   ]
  },
  {
   "cell_type": "code",
   "execution_count": null,
   "metadata": {},
   "outputs": [],
   "source": [
    "from pyspark.ml.feature import PCA\n",
    "pca = PCA(k=2, inputCol = scaler.getOutputCol(), outputCol=\"pcaFeatures\")\n",
    "\n",
    "model = pca.fit(final_df)\n",
    "transformed_feature = model.transform(final_df)\n",
    "transformed_feature.show()"
   ]
  },
  {
   "cell_type": "markdown",
   "metadata": {},
   "source": [
    "### Xây Dựng mô hình phân cụm"
   ]
  },
  {
   "cell_type": "markdown",
   "metadata": {},
   "source": [
    "### Tìm số cụm K"
   ]
  },
  {
   "cell_type": "markdown",
   "metadata": {},
   "source": [
    "<b> Sơ đồ phương pháp Elbow <b>"
   ]
  },
  {
   "cell_type": "markdown",
   "metadata": {},
   "source": [
    "Phương pháp Elbow là một cách giúp ta lựa chọn được số lượng các cụm phù hợp dựa vào đồ thị trực quan hoá bằng cách nhìn vào sự suy giảm của hàm biến dạng và lựa chọn ra điểm khuỷ tay"
   ]
  },
  {
   "cell_type": "code",
   "execution_count": null,
   "metadata": {},
   "outputs": [],
   "source": [
    "import numpy as np\n",
    "cost = np.zeros(10)\n",
    "\n",
    "for k in range(2,10):\n",
    "    kmeans = KMeans().setK(k).setSeed(1).setFeaturesCol('scaledFeatures')\n",
    "    model = kmeans.fit(final_df)\n",
    "    cost[k] = model.summary.trainingCost\n",
    "\n",
    "# Plot the cost\n",
    "df_cost = pd.DataFrame(cost[2:])\n",
    "df_cost.columns = [\"cost\"]\n",
    "new_col = [2,3,4,5,6,7,8, 9]\n",
    "df_cost.insert(0, 'cluster', new_col)\n",
    "\n",
    "import pylab as pl\n",
    "pl.plot(df_cost.cluster, df_cost.cost, marker = 'o')\n",
    "pl.xlabel('Number of Clusters')\n",
    "pl.ylabel('Score')\n",
    "pl.title('Elbow Curve')\n",
    "pl.show()"
   ]
  },
  {
   "cell_type": "markdown",
   "metadata": {},
   "source": [
    "Từ sơ đồ Elbow, ta nhận thấy số cụm K = 3 "
   ]
  },
  {
   "cell_type": "markdown",
   "metadata": {},
   "source": [
    "<b> Sơ đồ sử dụng PCA <b>"
   ]
  },
  {
   "cell_type": "markdown",
   "metadata": {},
   "source": [
    "Phép phân tích thành phần chính (Principal Components Analysis - PCA) là một thuật toán thống kê sử dụng phép biến đổi trực giao để biến đổi một tập hợp dữ liệu từ một không gian nhiều chiều sang một không gian mới ít chiều hơn (2 hoặc 3 chiều) nhằm tối ưu hóa việc thể hiện sự biến thiên của dữ liệ"
   ]
  },
  {
   "cell_type": "code",
   "execution_count": null,
   "metadata": {},
   "outputs": [],
   "source": [
    "X_pca = transformed_feature.rdd.map(lambda row: row.pcaFeatures).collect()\n",
    "X_pca = np.array(X_pca)\n",
    "print(X_pca)"
   ]
  },
  {
   "cell_type": "code",
   "execution_count": null,
   "metadata": {},
   "outputs": [],
   "source": [
    "df_pc = pd.DataFrame(X_pca, columns = ['PC1','PC2'])\n",
    "df_pc"
   ]
  },
  {
   "cell_type": "code",
   "execution_count": null,
   "metadata": {},
   "outputs": [],
   "source": [
    "plt.rcParams[\"figure.figsize\"] = (12, 8)\n",
    "plt.rcParams[\"figure.dpi\"] = 80\n",
    "plt.scatter(x=df_pc['PC1'], y=df_pc['PC2'], lw=2)\n",
    "plt.xlabel(\"Principle Component 1\")\n",
    "plt.ylabel(\"Principle Component 2\")\n",
    "plt.title(\"Principle Components Analysis\")\n",
    "plt.show()"
   ]
  },
  {
   "cell_type": "markdown",
   "metadata": {},
   "source": [
    "Có thể quan sát và dự đoán từ biểu đồ trên rằng dữ liệu có 3 cụm"
   ]
  },
  {
   "cell_type": "markdown",
   "metadata": {},
   "source": [
    "### Chạy Kmean với số cụm K = 3 "
   ]
  },
  {
   "cell_type": "markdown",
   "metadata": {},
   "source": [
    "Trong thuật toán K-means clustering, chúng ta không biết nhãn (label) của từng điểm dữ liệu. Mục đích là làm thể nào để phân dữ liệu thành các cụm (cluster) khác nhau sao cho dữ liệu trong cùng một cụm có tính chất giống nhau."
   ]
  },
  {
   "cell_type": "code",
   "execution_count": null,
   "metadata": {},
   "outputs": [],
   "source": [
    "kmeans = KMeans(featuresCol = 'scaledFeatures', k=3)\n",
    "model = kmeans.fit(final_df)"
   ]
  },
  {
   "cell_type": "markdown",
   "metadata": {},
   "source": [
    "<b> Xác định tâm cụm <b>"
   ]
  },
  {
   "cell_type": "code",
   "execution_count": null,
   "metadata": {},
   "outputs": [],
   "source": [
    "centers = model.clusterCenters()\n",
    "for center in centers:\n",
    "    print(center)"
   ]
  },
  {
   "cell_type": "markdown",
   "metadata": {},
   "source": [
    "<b> Phâm cụm dữ liệu <b>"
   ]
  },
  {
   "cell_type": "code",
   "execution_count": null,
   "metadata": {},
   "outputs": [],
   "source": [
    "cluster = model.transform(final_df).select('scaledFeatures', 'prediction')\n",
    "cluster.show(178)"
   ]
  },
  {
   "cell_type": "code",
   "execution_count": null,
   "metadata": {},
   "outputs": [],
   "source": [
    "cluster.groupBy(\"prediction\").count().show()"
   ]
  },
  {
   "cell_type": "markdown",
   "metadata": {},
   "source": [
    "Ta nhận thấy:\n",
    "- cụm thứ nhất (prediction = 0) có 64 dữ liệu có tính chất giống nhau\n",
    "- cụm thứ hai (prediction = 1) có 63 dữ liệu có tính chất giống nhau\n",
    "- cụm thứ ba (prediction = 2) có 51 dữ liệu có tính chất giống nhau"
   ]
  },
  {
   "cell_type": "markdown",
   "metadata": {},
   "source": [
    "# 4. Đánh giá mô hình "
   ]
  },
  {
   "cell_type": "markdown",
   "metadata": {},
   "source": [
    "Để đánh giá chất lượng mô hình phân cụm ta có thể đánh giá thông qua một số phương pháp như sau:\n",
    "\n",
    "- Khoảng cách / sự khác biệt giữa hai cụm bất kỳ phải lớn. (khoảng cách giữa các cụm): Giữa các cụm phải được tách biệt nhau hoàn toàn và sự khác biệt giữa 2 cụm phải đủ lớn để phân biệt 2 cụm với nhau.\n",
    "- Chênh lệch giữa các điểm dữ liệu bên trong một cụm phải nhỏ. Chênh lệch ở đây thể hiện sự khác biệt với nhau về mặt tương đồng giữa 2 dữ liệu theo tiêu chí phân cụm."
   ]
  },
  {
   "cell_type": "markdown",
   "metadata": {},
   "source": [
    "silhouette là một số liệu được sử dụng để tính toán mức độ tốt của kỹ thuật phân cụm. Giá trị của nó nằm trong khoảng từ -1 đến 1.\n",
    "\n",
    "1: Các cụm có nghĩa là cách xa nhau và phân biệt rõ ràng.\n",
    "\n",
    "0: Các cụm có nghĩa là không quan tâm, hoặc chúng ta có thể nói rằng khoảng cách giữa các cụm là không đáng kể.\n",
    "\n",
    "-1: Các cụm phương tiện được gán sai cách."
   ]
  },
  {
   "cell_type": "code",
   "execution_count": null,
   "metadata": {},
   "outputs": [],
   "source": [
    "pdt = model.transform(final_df)\n",
    "from pyspark.ml.evaluation import ClusteringEvaluator\n",
    "evaluator = ClusteringEvaluator()\n",
    "silhouette = evaluator.evaluate(pdt)\n",
    "print('Silhouette:', silhouette)"
   ]
  },
  {
   "cell_type": "markdown",
   "metadata": {},
   "source": [
    "- Nhận thấy silhouette = 0.720945086354097 => cụm được chia tương đối rõ ràng\n",
    "- Từ sơ đồ phân tàn ở phần phương pháp PCA ta nhận thấy: Dữ liệu đc phân tán tương đối gần nhau"
   ]
  },
  {
   "cell_type": "markdown",
   "metadata": {},
   "source": [
    "=> từ 2 điều trên ta đưa ra được kết luận: <b> Mô hình hoạt động khá tốt <b>"
   ]
  },
  {
   "cell_type": "code",
   "execution_count": null,
   "metadata": {},
   "outputs": [],
   "source": [
    "spark.stop()"
   ]
  },
  {
   "cell_type": "code",
   "execution_count": null,
   "metadata": {},
   "outputs": [],
   "source": []
  }
 ],
 "metadata": {
  "kernelspec": {
   "display_name": "Python 3 (ipykernel)",
   "language": "python",
   "name": "python3"
  },
  "language_info": {
   "codemirror_mode": {
    "name": "ipython",
    "version": 3
   },
   "file_extension": ".py",
   "mimetype": "text/x-python",
   "name": "python",
   "nbconvert_exporter": "python",
   "pygments_lexer": "ipython3",
   "version": "3.9.4"
  }
 },
 "nbformat": 4,
 "nbformat_minor": 4
}
